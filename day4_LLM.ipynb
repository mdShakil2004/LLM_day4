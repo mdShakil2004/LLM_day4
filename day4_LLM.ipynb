{
  "cells": [
    {
      "cell_type": "code",
      "source": [
        "# Day 4→ Post about ethical concerns in LLMs (bias, hallucination)."
      ],
      "metadata": {
        "id": "ejD0uHLMvx0V"
      },
      "execution_count": null,
      "outputs": []
    },
    {
      "cell_type": "code",
      "source": [
        "# Colab cell 1 — Post content and formatter functions\n",
        "post_title = \"Day 4 of my LLM Journey 🚀\\nTopic: Ethical Concerns in Large Language Models (LLMs)\"\n",
        "post_body = \"\"\"\n",
        "As I dive deeper into LLMs, I’ve realized that beyond the technical magic, there are serious **ethical challenges** that we must address:\n",
        "\n",
        "- **Bias** → LLMs learn from massive datasets that often contain historical, cultural, or societal biases. This means outputs can unintentionally reinforce stereotypes or unfair treatment.\n",
        "\n",
        "- **Hallucinations** → Sometimes LLMs generate responses that sound convincing but are factually incorrect. This is risky in critical fields like healthcare, law, or finance, where misinformation can have real-world consequences.\n",
        "\n",
        "- **Transparency & Accountability** → LLMs often act as “black boxes,” making it difficult to understand *why* they gave a particular answer. This raises accountability issues, especially when decisions impact people’s lives.\n",
        "\n",
        "- **Responsible Usage** → It’s important to set guardrails—like human review, fact-checking, and ethical AI practices—to ensure LLMs serve as helpful tools without causing harm.\n",
        "\n",
        "**Key takeaway:** *Building powerful AI is exciting, but building responsible AI is essential.* ⚖️\n",
        "\"\"\"\n",
        "\n",
        "def make_journal_md(title, body):\n",
        "    return f\"# {title}\\n\\n{body}\\n\"\n",
        "\n",
        "def make_linkedin_md(title, body, cta=\"What are your thoughts on responsible AI?\"):\n",
        "    hashtags = \"#AI #MachineLearning #Ethics #LLM #ResponsibleAI\"\n",
        "    # LinkedIn-friendly shorter intro + CTA + hashtags\n",
        "    intro = \"Day 4 — Ethical Concerns in LLMs\\n\\n\"\n",
        "    linkedin_body = body.strip()\n",
        "    # Keep it punchy for LinkedIn: a short lead + bullets (already present)\n",
        "    return f\"{intro}{linkedin_body}\\n\\n{cta}\\n\\n{hashtags}\\n\"\n",
        "\n",
        "# Prepare both variants\n",
        "journal_md = make_journal_md(post_title, post_body)\n",
        "linkedin_md = make_linkedin_md(post_title, post_body)\n"
      ],
      "metadata": {
        "id": "_hHgQJAmv4n8"
      },
      "execution_count": 5,
      "outputs": []
    },
    {
      "cell_type": "code",
      "source": [
        "# Colab cell 2 — Preview the Markdown (renders in Colab)\n",
        "from IPython.display import Markdown, display\n",
        "\n",
        "print(\"=== Journal (preview) ===\\n\")\n",
        "display(Markdown(journal_md))\n",
        "\n",
        "print(\"\\n\\n=== LinkedIn-style (preview) ===\\n\")\n",
        "display(Markdown(linkedin_md))\n"
      ],
      "metadata": {
        "colab": {
          "base_uri": "https://localhost:8080/",
          "height": 727
        },
        "id": "jicVamCIxVMk",
        "outputId": "0d25770c-4587-45f3-cf9c-fef792219900"
      },
      "execution_count": 6,
      "outputs": [
        {
          "output_type": "stream",
          "name": "stdout",
          "text": [
            "=== Journal (preview) ===\n",
            "\n"
          ]
        },
        {
          "output_type": "display_data",
          "data": {
            "text/plain": [
              "<IPython.core.display.Markdown object>"
            ],
            "text/markdown": "# Day 4 of my LLM Journey 🚀\nTopic: Ethical Concerns in Large Language Models (LLMs)\n\n\nAs I dive deeper into LLMs, I’ve realized that beyond the technical magic, there are serious **ethical challenges** that we must address:\n\n- **Bias** → LLMs learn from massive datasets that often contain historical, cultural, or societal biases. This means outputs can unintentionally reinforce stereotypes or unfair treatment.\n\n- **Hallucinations** → Sometimes LLMs generate responses that sound convincing but are factually incorrect. This is risky in critical fields like healthcare, law, or finance, where misinformation can have real-world consequences.\n\n- **Transparency & Accountability** → LLMs often act as “black boxes,” making it difficult to understand *why* they gave a particular answer. This raises accountability issues, especially when decisions impact people’s lives.\n\n- **Responsible Usage** → It’s important to set guardrails—like human review, fact-checking, and ethical AI practices—to ensure LLMs serve as helpful tools without causing harm.\n\n**Key takeaway:** *Building powerful AI is exciting, but building responsible AI is essential.* ⚖️\n\n"
          },
          "metadata": {}
        },
        {
          "output_type": "stream",
          "name": "stdout",
          "text": [
            "\n",
            "\n",
            "=== LinkedIn-style (preview) ===\n",
            "\n"
          ]
        },
        {
          "output_type": "display_data",
          "data": {
            "text/plain": [
              "<IPython.core.display.Markdown object>"
            ],
            "text/markdown": "Day 4 — Ethical Concerns in LLMs\n\nAs I dive deeper into LLMs, I’ve realized that beyond the technical magic, there are serious **ethical challenges** that we must address:\n\n- **Bias** → LLMs learn from massive datasets that often contain historical, cultural, or societal biases. This means outputs can unintentionally reinforce stereotypes or unfair treatment.\n\n- **Hallucinations** → Sometimes LLMs generate responses that sound convincing but are factually incorrect. This is risky in critical fields like healthcare, law, or finance, where misinformation can have real-world consequences.\n\n- **Transparency & Accountability** → LLMs often act as “black boxes,” making it difficult to understand *why* they gave a particular answer. This raises accountability issues, especially when decisions impact people’s lives.\n\n- **Responsible Usage** → It’s important to set guardrails—like human review, fact-checking, and ethical AI practices—to ensure LLMs serve as helpful tools without causing harm.\n\n**Key takeaway:** *Building powerful AI is exciting, but building responsible AI is essential.* ⚖️\n\nWhat are your thoughts on responsible AI?\n\n#AI #MachineLearning #Ethics #LLM #ResponsibleAI\n"
          },
          "metadata": {}
        }
      ]
    },
    {
      "cell_type": "code",
      "source": [
        "# Colab cell 3 — Save files and provide download links\n",
        "from pathlib import Path\n",
        "from google.colab import files\n",
        "\n",
        "out_dir = Path(\"/content/llm_posts\")\n",
        "out_dir.mkdir(parents=True, exist_ok=True)\n",
        "\n",
        "journal_path = out_dir / \"day4_journal.md\"\n",
        "linkedin_path = out_dir / \"day4_linkedin.md\"\n",
        "\n",
        "journal_path.write_text(journal_md, encoding=\"utf-8\")\n",
        "linkedin_path.write_text(linkedin_md, encoding=\"utf-8\")\n",
        "\n",
        "print(\"Saved files:\")\n",
        "print(journal_path)\n",
        "print(linkedin_path)\n",
        "\n",
        "# Make them downloadable in Colab\n",
        "files.download(str(journal_path))\n",
        "files.download(str(linkedin_path))\n"
      ],
      "metadata": {
        "colab": {
          "base_uri": "https://localhost:8080/",
          "height": 69
        },
        "id": "5iwjkqDuwB9J",
        "outputId": "70b59924-ba8b-41c2-b741-4e02d335c811"
      },
      "execution_count": 7,
      "outputs": [
        {
          "output_type": "stream",
          "name": "stdout",
          "text": [
            "Saved files:\n",
            "/content/llm_posts/day4_journal.md\n",
            "/content/llm_posts/day4_linkedin.md\n"
          ]
        },
        {
          "output_type": "display_data",
          "data": {
            "text/plain": [
              "<IPython.core.display.Javascript object>"
            ],
            "application/javascript": [
              "\n",
              "    async function download(id, filename, size) {\n",
              "      if (!google.colab.kernel.accessAllowed) {\n",
              "        return;\n",
              "      }\n",
              "      const div = document.createElement('div');\n",
              "      const label = document.createElement('label');\n",
              "      label.textContent = `Downloading \"${filename}\": `;\n",
              "      div.appendChild(label);\n",
              "      const progress = document.createElement('progress');\n",
              "      progress.max = size;\n",
              "      div.appendChild(progress);\n",
              "      document.body.appendChild(div);\n",
              "\n",
              "      const buffers = [];\n",
              "      let downloaded = 0;\n",
              "\n",
              "      const channel = await google.colab.kernel.comms.open(id);\n",
              "      // Send a message to notify the kernel that we're ready.\n",
              "      channel.send({})\n",
              "\n",
              "      for await (const message of channel.messages) {\n",
              "        // Send a message to notify the kernel that we're ready.\n",
              "        channel.send({})\n",
              "        if (message.buffers) {\n",
              "          for (const buffer of message.buffers) {\n",
              "            buffers.push(buffer);\n",
              "            downloaded += buffer.byteLength;\n",
              "            progress.value = downloaded;\n",
              "          }\n",
              "        }\n",
              "      }\n",
              "      const blob = new Blob(buffers, {type: 'application/binary'});\n",
              "      const a = document.createElement('a');\n",
              "      a.href = window.URL.createObjectURL(blob);\n",
              "      a.download = filename;\n",
              "      div.appendChild(a);\n",
              "      a.click();\n",
              "      div.remove();\n",
              "    }\n",
              "  "
            ]
          },
          "metadata": {}
        },
        {
          "output_type": "display_data",
          "data": {
            "text/plain": [
              "<IPython.core.display.Javascript object>"
            ],
            "application/javascript": [
              "download(\"download_068214a8-20d5-42f0-aec3-85cefee31f70\", \"day4_journal.md\", 1181)"
            ]
          },
          "metadata": {}
        },
        {
          "output_type": "display_data",
          "data": {
            "text/plain": [
              "<IPython.core.display.Javascript object>"
            ],
            "application/javascript": [
              "\n",
              "    async function download(id, filename, size) {\n",
              "      if (!google.colab.kernel.accessAllowed) {\n",
              "        return;\n",
              "      }\n",
              "      const div = document.createElement('div');\n",
              "      const label = document.createElement('label');\n",
              "      label.textContent = `Downloading \"${filename}\": `;\n",
              "      div.appendChild(label);\n",
              "      const progress = document.createElement('progress');\n",
              "      progress.max = size;\n",
              "      div.appendChild(progress);\n",
              "      document.body.appendChild(div);\n",
              "\n",
              "      const buffers = [];\n",
              "      let downloaded = 0;\n",
              "\n",
              "      const channel = await google.colab.kernel.comms.open(id);\n",
              "      // Send a message to notify the kernel that we're ready.\n",
              "      channel.send({})\n",
              "\n",
              "      for await (const message of channel.messages) {\n",
              "        // Send a message to notify the kernel that we're ready.\n",
              "        channel.send({})\n",
              "        if (message.buffers) {\n",
              "          for (const buffer of message.buffers) {\n",
              "            buffers.push(buffer);\n",
              "            downloaded += buffer.byteLength;\n",
              "            progress.value = downloaded;\n",
              "          }\n",
              "        }\n",
              "      }\n",
              "      const blob = new Blob(buffers, {type: 'application/binary'});\n",
              "      const a = document.createElement('a');\n",
              "      a.href = window.URL.createObjectURL(blob);\n",
              "      a.download = filename;\n",
              "      div.appendChild(a);\n",
              "      a.click();\n",
              "      div.remove();\n",
              "    }\n",
              "  "
            ]
          },
          "metadata": {}
        },
        {
          "output_type": "display_data",
          "data": {
            "text/plain": [
              "<IPython.core.display.Javascript object>"
            ],
            "application/javascript": [
              "download(\"download_724c1898-4b8d-41f3-80e8-c2c70208ba65\", \"day4_linkedin.md\", 1220)"
            ]
          },
          "metadata": {}
        }
      ]
    },
    {
      "cell_type": "code",
      "source": [
        "# Colab cell 3 — Save files and provide download links\n",
        "from pathlib import Path\n",
        "from google.colab import files\n",
        "\n",
        "out_dir = Path(\"/content/llm_posts\")\n",
        "out_dir.mkdir(parents=True, exist_ok=True)\n",
        "\n",
        "journal_path = out_dir / \"day4_journal.md\"\n",
        "linkedin_path = out_dir / \"day4_linkedin.md\"\n",
        "\n",
        "journal_path.write_text(journal_md, encoding=\"utf-8\")\n",
        "linkedin_path.write_text(linkedin_md, encoding=\"utf-8\")\n",
        "\n",
        "print(\"Saved files:\")\n",
        "print(journal_path)\n",
        "print(linkedin_path)\n",
        "\n",
        "# Make them downloadable in Colab\n",
        "files.download(str(journal_path))\n",
        "files.download(str(linkedin_path))\n"
      ],
      "metadata": {
        "colab": {
          "base_uri": "https://localhost:8080/",
          "height": 69
        },
        "id": "VPujd7aCwThM",
        "outputId": "fae941df-b02b-42ad-b507-c4e77362e0c3"
      },
      "execution_count": null,
      "outputs": [
        {
          "output_type": "stream",
          "name": "stdout",
          "text": [
            "Saved files:\n",
            "/content/llm_posts/day4_journal.md\n",
            "/content/llm_posts/day4_linkedin.md\n"
          ]
        },
        {
          "output_type": "display_data",
          "data": {
            "text/plain": [
              "<IPython.core.display.Javascript object>"
            ],
            "application/javascript": [
              "\n",
              "    async function download(id, filename, size) {\n",
              "      if (!google.colab.kernel.accessAllowed) {\n",
              "        return;\n",
              "      }\n",
              "      const div = document.createElement('div');\n",
              "      const label = document.createElement('label');\n",
              "      label.textContent = `Downloading \"${filename}\": `;\n",
              "      div.appendChild(label);\n",
              "      const progress = document.createElement('progress');\n",
              "      progress.max = size;\n",
              "      div.appendChild(progress);\n",
              "      document.body.appendChild(div);\n",
              "\n",
              "      const buffers = [];\n",
              "      let downloaded = 0;\n",
              "\n",
              "      const channel = await google.colab.kernel.comms.open(id);\n",
              "      // Send a message to notify the kernel that we're ready.\n",
              "      channel.send({})\n",
              "\n",
              "      for await (const message of channel.messages) {\n",
              "        // Send a message to notify the kernel that we're ready.\n",
              "        channel.send({})\n",
              "        if (message.buffers) {\n",
              "          for (const buffer of message.buffers) {\n",
              "            buffers.push(buffer);\n",
              "            downloaded += buffer.byteLength;\n",
              "            progress.value = downloaded;\n",
              "          }\n",
              "        }\n",
              "      }\n",
              "      const blob = new Blob(buffers, {type: 'application/binary'});\n",
              "      const a = document.createElement('a');\n",
              "      a.href = window.URL.createObjectURL(blob);\n",
              "      a.download = filename;\n",
              "      div.appendChild(a);\n",
              "      a.click();\n",
              "      div.remove();\n",
              "    }\n",
              "  "
            ]
          },
          "metadata": {}
        },
        {
          "output_type": "display_data",
          "data": {
            "text/plain": [
              "<IPython.core.display.Javascript object>"
            ],
            "application/javascript": [
              "download(\"download_2f41aa3a-fb01-465e-9ddb-91908df3ff7e\", \"day4_journal.md\", 1181)"
            ]
          },
          "metadata": {}
        },
        {
          "output_type": "display_data",
          "data": {
            "text/plain": [
              "<IPython.core.display.Javascript object>"
            ],
            "application/javascript": [
              "\n",
              "    async function download(id, filename, size) {\n",
              "      if (!google.colab.kernel.accessAllowed) {\n",
              "        return;\n",
              "      }\n",
              "      const div = document.createElement('div');\n",
              "      const label = document.createElement('label');\n",
              "      label.textContent = `Downloading \"${filename}\": `;\n",
              "      div.appendChild(label);\n",
              "      const progress = document.createElement('progress');\n",
              "      progress.max = size;\n",
              "      div.appendChild(progress);\n",
              "      document.body.appendChild(div);\n",
              "\n",
              "      const buffers = [];\n",
              "      let downloaded = 0;\n",
              "\n",
              "      const channel = await google.colab.kernel.comms.open(id);\n",
              "      // Send a message to notify the kernel that we're ready.\n",
              "      channel.send({})\n",
              "\n",
              "      for await (const message of channel.messages) {\n",
              "        // Send a message to notify the kernel that we're ready.\n",
              "        channel.send({})\n",
              "        if (message.buffers) {\n",
              "          for (const buffer of message.buffers) {\n",
              "            buffers.push(buffer);\n",
              "            downloaded += buffer.byteLength;\n",
              "            progress.value = downloaded;\n",
              "          }\n",
              "        }\n",
              "      }\n",
              "      const blob = new Blob(buffers, {type: 'application/binary'});\n",
              "      const a = document.createElement('a');\n",
              "      a.href = window.URL.createObjectURL(blob);\n",
              "      a.download = filename;\n",
              "      div.appendChild(a);\n",
              "      a.click();\n",
              "      div.remove();\n",
              "    }\n",
              "  "
            ]
          },
          "metadata": {}
        },
        {
          "output_type": "display_data",
          "data": {
            "text/plain": [
              "<IPython.core.display.Javascript object>"
            ],
            "application/javascript": [
              "download(\"download_6d5b1f26-15d4-4b70-8457-41a2a0e89e0f\", \"day4_linkedin.md\", 1220)"
            ]
          },
          "metadata": {}
        }
      ]
    },
    {
      "cell_type": "code",
      "source": [
        "# Optional Colab cell 4 — Generate a short tweet/X version (280 chars)\n",
        "tweet_prefix = \"Day 4: Ethical Concerns in LLMs — bias, hallucination, transparency. Building powerful AI is exciting, but responsible AI is essential. Thoughts?\"\n",
        "# Truncate safely if needed:\n",
        "tweet = tweet_prefix if len(tweet_prefix) <= 280 else tweet_prefix[:277] + \"...\"\n",
        "print(\"Tweet/X-ready:\\n\")\n",
        "print(tweet)\n"
      ],
      "metadata": {
        "colab": {
          "base_uri": "https://localhost:8080/"
        },
        "id": "gp-DR9c4wLFz",
        "outputId": "43a56441-6c12-443f-e3ca-6f43500689ec"
      },
      "execution_count": 8,
      "outputs": [
        {
          "output_type": "stream",
          "name": "stdout",
          "text": [
            "Tweet/X-ready:\n",
            "\n",
            "Day 4: Ethical Concerns in LLMs — bias, hallucination, transparency. Building powerful AI is exciting, but responsible AI is essential. Thoughts?\n"
          ]
        }
      ]
    },
    {
      "cell_type": "code",
      "source": [
        "# Colab Cell 1 — Deep Dive Post with Case Studies + References\n",
        "post_title = \"Day 4 of my LLM Journey 🚀\\nDeep Dive: Ethical Concerns in Large Language Models (LLMs)\"\n",
        "\n",
        "sections = {\n",
        "    \"Bias\": \"\"\"LLMs inherit biases from their training data.\n",
        "    For example, studies on recruitment AI (Amazon’s hiring algorithm) showed that models trained on historical resumes\n",
        "    favored male candidates for technical roles, because past datasets reflected male dominance in tech jobs.\n",
        "    This highlights how bias in training data can reinforce real-world inequalities.\n",
        "    📖 Reference: The Guardian (2018) — Amazon scraps secret AI recruiting tool that showed bias against women.\"\"\",\n",
        "\n",
        "    \"Hallucinations\": \"\"\"LLMs can generate fluent but factually incorrect statements.\n",
        "    A notable case in healthcare: Microsoft’s BioGPT model was found to hallucinate misleading medical claims in research tests.\n",
        "    Such errors pose risks in high-stakes fields like medicine.\n",
        "    📖 Reference: Nature Medicine (2023) — Evaluation of GPT models in medical question answering.\"\"\",\n",
        "\n",
        "    \"Transparency & Accountability\": \"\"\"Most LLMs are 'black boxes'—we don’t fully understand how they arrive at answers.\n",
        "    This lack of interpretability makes it hard to assign accountability when errors occur, especially in automated decision-making.\n",
        "    For instance, in finance, if an AI recommends a risky investment and a client loses money, who is responsible?\n",
        "    📖 Reference: OECD AI Principles (2019) — Emphasis on transparency and accountability.\"\"\",\n",
        "\n",
        "    \"Responsible Usage\": \"\"\"Ethical deployment requires human oversight, fact-checking mechanisms,\n",
        "    and alignment with principles like fairness, safety, and inclusivity.\n",
        "    Companies should adopt frameworks like the OECD AI Principles or the upcoming EU AI Act.\n",
        "    📖 Reference: EU AI Act (2024) — Risk-based approach to AI regulation.\"\"\"\n",
        "}\n",
        "\n",
        "# Journal Style Post\n",
        "journal_md = f\"# {post_title}\\n\\n\"\n",
        "journal_md += \"As I dive deeper into LLMs, I see serious **ethical challenges**:\\n\\n\"\n",
        "for k, v in sections.items():\n",
        "    journal_md += f\"### {k}\\n{v}\\n\\n\"\n",
        "journal_md += \"\\n**Key takeaway:** *Powerful AI is exciting, but responsible AI is essential.* ⚖️\\n\"\n",
        "\n",
        "# LinkedIn Style Post\n",
        "linkedin_md = f\"Day 4 — Deep Dive into Ethical Concerns in LLMs 🚀\\n\\n\"\n",
        "linkedin_md += \"Here are four key challenges we must address (with real-world examples + references):\\n\\n\"\n",
        "linkedin_md += \"🔹 **Bias** → Amazon’s hiring AI once ranked male resumes higher (The Guardian, 2018).\\n\\n\"\n",
        "linkedin_md += \"🔹 **Hallucinations** → BioGPT made false medical claims (Nature Medicine, 2023).\\n\\n\"\n",
        "linkedin_md += \"🔹 **Transparency** → OECD AI Principles (2019) stress accountability.\\n\\n\"\n",
        "linkedin_md += \"🔹 **Responsible Usage** → EU AI Act (2024) introduces risk-based regulation.\\n\\n\"\n",
        "linkedin_md += \"👉 What are your thoughts on building Responsible AI?\\n\\n#AI #LLM #Ethics #ResponsibleAI\"\n"
      ],
      "metadata": {
        "id": "-Buujz3SyT2z"
      },
      "execution_count": 9,
      "outputs": []
    },
    {
      "cell_type": "code",
      "source": [
        "# Colab Cell 2 — Preview\n",
        "from IPython.display import Markdown, display\n",
        "\n",
        "print(\"=== Journal Style ===\\n\")\n",
        "display(Markdown(journal_md))\n",
        "\n",
        "print(\"\\n\\n=== LinkedIn Style ===\\n\")\n",
        "display(Markdown(linkedin_md))\n"
      ],
      "metadata": {
        "id": "eXHYoMmXyYoU"
      },
      "execution_count": null,
      "outputs": []
    },
    {
      "cell_type": "code",
      "source": [
        "# Colab Cell 3 — Visualization (Annotated)\n",
        "import matplotlib.pyplot as plt\n",
        "\n",
        "issues = list(sections.keys())\n",
        "severity = [9, 8, 7, 9]  # Example subjective severity scores\n",
        "\n",
        "plt.figure(figsize=(7,5))\n",
        "bars = plt.bar(issues, severity, color='skyblue')\n",
        "plt.title(\"Ethical Concerns in LLMs (with Case Studies)\")\n",
        "plt.ylabel(\"Severity (1–10)\")\n",
        "plt.xlabel(\"Concern\")\n",
        "\n",
        "examples = [\n",
        "    \"Recruitment Bias (Amazon, 2018)\",\n",
        "    \"Medical Misinformation (BioGPT, 2023)\",\n",
        "    \"Finance Accountability (OECD, 2019)\",\n",
        "    \"AI Regulations (EU AI Act, 2024)\"\n",
        "]\n",
        "for bar, ex in zip(bars, examples):\n",
        "    plt.text(bar.get_x() + bar.get_width()/2, bar.get_height() + 0.2, ex,\n",
        "             ha='center', va='bottom', fontsize=9, rotation=20)\n",
        "\n",
        "plt.show()\n"
      ],
      "metadata": {
        "colab": {
          "base_uri": "https://localhost:8080/",
          "height": 539
        },
        "id": "PSg7KaPwydWF",
        "outputId": "910909fa-3015-4c95-a4e6-9f869e3f67f4"
      },
      "execution_count": 10,
      "outputs": [
        {
          "output_type": "display_data",
          "data": {
            "text/plain": [
              "<Figure size 700x500 with 1 Axes>"
            ],
            "image/png": "[encoded data removed]"
          },
          "metadata": {}
        }
      ]
    },
    {
      "cell_type": "code",
      "source": [
        "# Colab Cell 4 — Export as Markdown + PDF\n",
        "from google.colab import files\n",
        "from pathlib import Path\n",
        "from reportlab.platypus import SimpleDocTemplate, Paragraph, Spacer\n",
        "from reportlab.lib.styles import getSampleStyleSheet\n",
        "\n",
        "out_dir = Path(\"/content/llm_day4\")\n",
        "out_dir.mkdir(parents=True, exist_ok=True)\n",
        "\n",
        "journal_path = out_dir / \"day4_journal.md\"\n",
        "linkedin_path = out_dir / \"day4_linkedin.md\"\n",
        "pdf_path = out_dir / \"day4_journal.pdf\"\n",
        "\n",
        "# Save MD files\n",
        "journal_path.write_text(journal_md, encoding=\"utf-8\")\n",
        "linkedin_path.write_text(linkedin_md, encoding=\"utf-8\")\n",
        "\n",
        "# Save PDF\n",
        "styles = getSampleStyleSheet()\n",
        "doc = SimpleDocTemplate(str(pdf_path))\n",
        "story = [Paragraph(post_title, styles[\"Title\"]), Spacer(1, 20)]\n",
        "for k, v in sections.items():\n",
        "    story.append(Paragraph(f\"<b>{k}</b>\", styles[\"Heading2\"]))\n",
        "    story.append(Paragraph(v, styles[\"Normal\"]))\n",
        "    story.append(Spacer(1, 12))\n",
        "doc.build(story)\n",
        "\n",
        "print(\"Files generated:\")\n",
        "print(journal_path, linkedin_path, pdf_path)\n",
        "\n",
        "files.download(str(journal_path))\n",
        "files.download(str(linkedin_path))\n",
        "files.download(str(pdf_path))\n"
      ],
      "metadata": {
        "colab": {
          "base_uri": "https://localhost:8080/",
          "height": 52
        },
        "id": "tbXdYEhDyjs_",
        "outputId": "e8db97df-db55-4e60-f950-50b23be79f9b"
      },
      "execution_count": 19,
      "outputs": [
        {
          "output_type": "stream",
          "name": "stdout",
          "text": [
            "Files generated:\n",
            "/content/llm_day4/day4_journal.md /content/llm_day4/day4_linkedin.md /content/llm_day4/day4_journal.pdf\n"
          ]
        },
        {
          "output_type": "display_data",
          "data": {
            "text/plain": [
              "<IPython.core.display.Javascript object>"
            ],
            "application/javascript": [
              "\n",
              "    async function download(id, filename, size) {\n",
              "      if (!google.colab.kernel.accessAllowed) {\n",
              "        return;\n",
              "      }\n",
              "      const div = document.createElement('div');\n",
              "      const label = document.createElement('label');\n",
              "      label.textContent = `Downloading \"${filename}\": `;\n",
              "      div.appendChild(label);\n",
              "      const progress = document.createElement('progress');\n",
              "      progress.max = size;\n",
              "      div.appendChild(progress);\n",
              "      document.body.appendChild(div);\n",
              "\n",
              "      const buffers = [];\n",
              "      let downloaded = 0;\n",
              "\n",
              "      const channel = await google.colab.kernel.comms.open(id);\n",
              "      // Send a message to notify the kernel that we're ready.\n",
              "      channel.send({})\n",
              "\n",
              "      for await (const message of channel.messages) {\n",
              "        // Send a message to notify the kernel that we're ready.\n",
              "        channel.send({})\n",
              "        if (message.buffers) {\n",
              "          for (const buffer of message.buffers) {\n",
              "            buffers.push(buffer);\n",
              "            downloaded += buffer.byteLength;\n",
              "            progress.value = downloaded;\n",
              "          }\n",
              "        }\n",
              "      }\n",
              "      const blob = new Blob(buffers, {type: 'application/binary'});\n",
              "      const a = document.createElement('a');\n",
              "      a.href = window.URL.createObjectURL(blob);\n",
              "      a.download = filename;\n",
              "      div.appendChild(a);\n",
              "      a.click();\n",
              "      div.remove();\n",
              "    }\n",
              "  "
            ]
          },
          "metadata": {}
        },
        {
          "output_type": "display_data",
          "data": {
            "text/plain": [
              "<IPython.core.display.Javascript object>"
            ],
            "application/javascript": [
              "download(\"download_0d0ceb84-33c8-452f-88b2-9991d1ae7ef3\", \"day4_journal.md\", 1934)"
            ]
          },
          "metadata": {}
        },
        {
          "output_type": "display_data",
          "data": {
            "text/plain": [
              "<IPython.core.display.Javascript object>"
            ],
            "application/javascript": [
              "\n",
              "    async function download(id, filename, size) {\n",
              "      if (!google.colab.kernel.accessAllowed) {\n",
              "        return;\n",
              "      }\n",
              "      const div = document.createElement('div');\n",
              "      const label = document.createElement('label');\n",
              "      label.textContent = `Downloading \"${filename}\": `;\n",
              "      div.appendChild(label);\n",
              "      const progress = document.createElement('progress');\n",
              "      progress.max = size;\n",
              "      div.appendChild(progress);\n",
              "      document.body.appendChild(div);\n",
              "\n",
              "      const buffers = [];\n",
              "      let downloaded = 0;\n",
              "\n",
              "      const channel = await google.colab.kernel.comms.open(id);\n",
              "      // Send a message to notify the kernel that we're ready.\n",
              "      channel.send({})\n",
              "\n",
              "      for await (const message of channel.messages) {\n",
              "        // Send a message to notify the kernel that we're ready.\n",
              "        channel.send({})\n",
              "        if (message.buffers) {\n",
              "          for (const buffer of message.buffers) {\n",
              "            buffers.push(buffer);\n",
              "            downloaded += buffer.byteLength;\n",
              "            progress.value = downloaded;\n",
              "          }\n",
              "        }\n",
              "      }\n",
              "      const blob = new Blob(buffers, {type: 'application/binary'});\n",
              "      const a = document.createElement('a');\n",
              "      a.href = window.URL.createObjectURL(blob);\n",
              "      a.download = filename;\n",
              "      div.appendChild(a);\n",
              "      a.click();\n",
              "      div.remove();\n",
              "    }\n",
              "  "
            ]
          },
          "metadata": {}
        },
        {
          "output_type": "display_data",
          "data": {
            "text/plain": [
              "<IPython.core.display.Javascript object>"
            ],
            "application/javascript": [
              "download(\"download_a115d0ba-18b5-47e7-bfaf-0c2f49d86f0f\", \"day4_linkedin.md\", 571)"
            ]
          },
          "metadata": {}
        },
        {
          "output_type": "display_data",
          "data": {
            "text/plain": [
              "<IPython.core.display.Javascript object>"
            ],
            "application/javascript": [
              "\n",
              "    async function download(id, filename, size) {\n",
              "      if (!google.colab.kernel.accessAllowed) {\n",
              "        return;\n",
              "      }\n",
              "      const div = document.createElement('div');\n",
              "      const label = document.createElement('label');\n",
              "      label.textContent = `Downloading \"${filename}\": `;\n",
              "      div.appendChild(label);\n",
              "      const progress = document.createElement('progress');\n",
              "      progress.max = size;\n",
              "      div.appendChild(progress);\n",
              "      document.body.appendChild(div);\n",
              "\n",
              "      const buffers = [];\n",
              "      let downloaded = 0;\n",
              "\n",
              "      const channel = await google.colab.kernel.comms.open(id);\n",
              "      // Send a message to notify the kernel that we're ready.\n",
              "      channel.send({})\n",
              "\n",
              "      for await (const message of channel.messages) {\n",
              "        // Send a message to notify the kernel that we're ready.\n",
              "        channel.send({})\n",
              "        if (message.buffers) {\n",
              "          for (const buffer of message.buffers) {\n",
              "            buffers.push(buffer);\n",
              "            downloaded += buffer.byteLength;\n",
              "            progress.value = downloaded;\n",
              "          }\n",
              "        }\n",
              "      }\n",
              "      const blob = new Blob(buffers, {type: 'application/binary'});\n",
              "      const a = document.createElement('a');\n",
              "      a.href = window.URL.createObjectURL(blob);\n",
              "      a.download = filename;\n",
              "      div.appendChild(a);\n",
              "      a.click();\n",
              "      div.remove();\n",
              "    }\n",
              "  "
            ]
          },
          "metadata": {}
        },
        {
          "output_type": "display_data",
          "data": {
            "text/plain": [
              "<IPython.core.display.Javascript object>"
            ],
            "application/javascript": [
              "download(\"download_474b1516-bd33-4e92-9ad2-543837b700c6\", \"day4_journal.pdf\", 3139)"
            ]
          },
          "metadata": {}
        }
      ]
    },
    {
      "cell_type": "code",
      "metadata": {
        "colab": {
          "base_uri": "https://localhost:8080/"
        },
        "id": "a30e8c50",
        "outputId": "ddcf59da-db62-43be-f7fa-9bb1e3b67a19"
      },
      "source": [
        "!pip install reportlab"
      ],
      "execution_count": 18,
      "outputs": [
        {
          "output_type": "stream",
          "name": "stdout",
          "text": [
            "Requirement already satisfied: reportlab in /usr/local/lib/python3.12/dist-packages (4.4.3)\n",
            "Requirement already satisfied: pillow>=9.0.0 in /usr/local/lib/python3.12/dist-packages (from reportlab) (11.3.0)\n",
            "Requirement already satisfied: charset-normalizer in /usr/local/lib/python3.12/dist-packages (from reportlab) (3.4.3)\n"
          ]
        }
      ]
    },
    {
      "cell_type": "code",
      "metadata": {
        "colab": {
          "base_uri": "https://localhost:8080/",
          "height": 104
        },
        "id": "dec31c3d",
        "outputId": "ad422f32-b49f-41a6-d1e8-1cbd649bc8a5"
      },
      "source": [
        "# Colab Cell 4 — Install and Export as Markdown + PDF\n",
        "!pip install reportlab\n",
        "\n",
        "from google.colab import files\n",
        "from pathlib import Path\n",
        "from reportlab.platypus import SimpleDocTemplate, Paragraph, Spacer\n",
        "from reportlab.lib.styles import getSampleStyleSheet\n",
        "\n",
        "out_dir = Path(\"/content/llm_day4\")\n",
        "out_dir.mkdir(parents=True, exist_ok=True)\n",
        "\n",
        "journal_path = out_dir / \"day4_journal.md\"\n",
        "linkedin_path = out_dir / \"day4_linkedin.md\"\n",
        "pdf_path = out_dir / \"day4_journal.pdf\"\n",
        "\n",
        "# Save MD files\n",
        "journal_path.write_text(journal_md, encoding=\"utf-8\")\n",
        "linkedin_path.write_text(linkedin_md, encoding=\"utf-8\")\n",
        "\n",
        "# Save PDF\n",
        "styles = getSampleStyleSheet()\n",
        "doc = SimpleDocTemplate(str(pdf_path))\n",
        "story = [Paragraph(post_title, styles[\"Title\"]), Spacer(1, 20)]\n",
        "for k, v in sections.items():\n",
        "    story.append(Paragraph(f\"<b>{k}</b>\", styles[\"Heading2\"]))\n",
        "    story.append(Paragraph(v, styles[\"Normal\"]))\n",
        "    story.append(Spacer(1, 12))\n",
        "doc.build(story)\n",
        "\n",
        "print(\"Files generated:\")\n",
        "print(journal_path, linkedin_path, pdf_path)\n",
        "\n",
        "files.download(str(journal_path))\n",
        "files.download(str(linkedin_path))\n",
        "files.download(str(pdf_path))\n"
      ],
      "execution_count": 17,
      "outputs": [
        {
          "output_type": "stream",
          "name": "stdout",
          "text": [
            "Requirement already satisfied: reportlab in /usr/local/lib/python3.12/dist-packages (4.4.3)\n",
            "Requirement already satisfied: pillow>=9.0.0 in /usr/local/lib/python3.12/dist-packages (from reportlab) (11.3.0)\n",
            "Requirement already satisfied: charset-normalizer in /usr/local/lib/python3.12/dist-packages (from reportlab) (3.4.3)\n",
            "Files generated:\n",
            "/content/llm_day4/day4_journal.md /content/llm_day4/day4_linkedin.md /content/llm_day4/day4_journal.pdf\n"
          ]
        },
        {
          "output_type": "display_data",
          "data": {
            "text/plain": [
              "<IPython.core.display.Javascript object>"
            ],
            "application/javascript": [
              "\n",
              "    async function download(id, filename, size) {\n",
              "      if (!google.colab.kernel.accessAllowed) {\n",
              "        return;\n",
              "      }\n",
              "      const div = document.createElement('div');\n",
              "      const label = document.createElement('label');\n",
              "      label.textContent = `Downloading \"${filename}\": `;\n",
              "      div.appendChild(label);\n",
              "      const progress = document.createElement('progress');\n",
              "      progress.max = size;\n",
              "      div.appendChild(progress);\n",
              "      document.body.appendChild(div);\n",
              "\n",
              "      const buffers = [];\n",
              "      let downloaded = 0;\n",
              "\n",
              "      const channel = await google.colab.kernel.comms.open(id);\n",
              "      // Send a message to notify the kernel that we're ready.\n",
              "      channel.send({})\n",
              "\n",
              "      for await (const message of channel.messages) {\n",
              "        // Send a message to notify the kernel that we're ready.\n",
              "        channel.send({})\n",
              "        if (message.buffers) {\n",
              "          for (const buffer of message.buffers) {\n",
              "            buffers.push(buffer);\n",
              "            downloaded += buffer.byteLength;\n",
              "            progress.value = downloaded;\n",
              "          }\n",
              "        }\n",
              "      }\n",
              "      const blob = new Blob(buffers, {type: 'application/binary'});\n",
              "      const a = document.createElement('a');\n",
              "      a.href = window.URL.createObjectURL(blob);\n",
              "      a.download = filename;\n",
              "      div.appendChild(a);\n",
              "      a.click();\n",
              "      div.remove();\n",
              "    }\n",
              "  "
            ]
          },
          "metadata": {}
        },
        {
          "output_type": "display_data",
          "data": {
            "text/plain": [
              "<IPython.core.display.Javascript object>"
            ],
            "application/javascript": [
              "download(\"download_4c839576-ffde-4274-9809-30d0e6377f67\", \"day4_journal.md\", 1934)"
            ]
          },
          "metadata": {}
        },
        {
          "output_type": "display_data",
          "data": {
            "text/plain": [
              "<IPython.core.display.Javascript object>"
            ],
            "application/javascript": [
              "\n",
              "    async function download(id, filename, size) {\n",
              "      if (!google.colab.kernel.accessAllowed) {\n",
              "        return;\n",
              "      }\n",
              "      const div = document.createElement('div');\n",
              "      const label = document.createElement('label');\n",
              "      label.textContent = `Downloading \"${filename}\": `;\n",
              "      div.appendChild(label);\n",
              "      const progress = document.createElement('progress');\n",
              "      progress.max = size;\n",
              "      div.appendChild(progress);\n",
              "      document.body.appendChild(div);\n",
              "\n",
              "      const buffers = [];\n",
              "      let downloaded = 0;\n",
              "\n",
              "      const channel = await google.colab.kernel.comms.open(id);\n",
              "      // Send a message to notify the kernel that we're ready.\n",
              "      channel.send({})\n",
              "\n",
              "      for await (const message of channel.messages) {\n",
              "        // Send a message to notify the kernel that we're ready.\n",
              "        channel.send({})\n",
              "        if (message.buffers) {\n",
              "          for (const buffer of message.buffers) {\n",
              "            buffers.push(buffer);\n",
              "            downloaded += buffer.byteLength;\n",
              "            progress.value = downloaded;\n",
              "          }\n",
              "        }\n",
              "      }\n",
              "      const blob = new Blob(buffers, {type: 'application/binary'});\n",
              "      const a = document.createElement('a');\n",
              "      a.href = window.URL.createObjectURL(blob);\n",
              "      a.download = filename;\n",
              "      div.appendChild(a);\n",
              "      a.click();\n",
              "      div.remove();\n",
              "    }\n",
              "  "
            ]
          },
          "metadata": {}
        },
        {
          "output_type": "display_data",
          "data": {
            "text/plain": [
              "<IPython.core.display.Javascript object>"
            ],
            "application/javascript": [
              "download(\"download_70b96cf1-838d-4e70-b3c4-2fcd3c334d76\", \"day4_linkedin.md\", 571)"
            ]
          },
          "metadata": {}
        },
        {
          "output_type": "display_data",
          "data": {
            "text/plain": [
              "<IPython.core.display.Javascript object>"
            ],
            "application/javascript": [
              "\n",
              "    async function download(id, filename, size) {\n",
              "      if (!google.colab.kernel.accessAllowed) {\n",
              "        return;\n",
              "      }\n",
              "      const div = document.createElement('div');\n",
              "      const label = document.createElement('label');\n",
              "      label.textContent = `Downloading \"${filename}\": `;\n",
              "      div.appendChild(label);\n",
              "      const progress = document.createElement('progress');\n",
              "      progress.max = size;\n",
              "      div.appendChild(progress);\n",
              "      document.body.appendChild(div);\n",
              "\n",
              "      const buffers = [];\n",
              "      let downloaded = 0;\n",
              "\n",
              "      const channel = await google.colab.kernel.comms.open(id);\n",
              "      // Send a message to notify the kernel that we're ready.\n",
              "      channel.send({})\n",
              "\n",
              "      for await (const message of channel.messages) {\n",
              "        // Send a message to notify the kernel that we're ready.\n",
              "        channel.send({})\n",
              "        if (message.buffers) {\n",
              "          for (const buffer of message.buffers) {\n",
              "            buffers.push(buffer);\n",
              "            downloaded += buffer.byteLength;\n",
              "            progress.value = downloaded;\n",
              "          }\n",
              "        }\n",
              "      }\n",
              "      const blob = new Blob(buffers, {type: 'application/binary'});\n",
              "      const a = document.createElement('a');\n",
              "      a.href = window.URL.createObjectURL(blob);\n",
              "      a.download = filename;\n",
              "      div.appendChild(a);\n",
              "      a.click();\n",
              "      div.remove();\n",
              "    }\n",
              "  "
            ]
          },
          "metadata": {}
        },
        {
          "output_type": "display_data",
          "data": {
            "text/plain": [
              "<IPython.core.display.Javascript object>"
            ],
            "application/javascript": [
              "download(\"download_17c71d63-86bf-4d57-9405-37088b2563dd\", \"day4_journal.pdf\", 3139)"
            ]
          },
          "metadata": {}
        }
      ]
    }
  ],
  "metadata": {
    "colab": {
      "provenance": [],
      "gpuType": "T4"
    },
    "kernelspec": {
      "display_name": "Python 3",
      "name": "python3"
    },
    "accelerator": "GPU"
  },
  "nbformat": 4,
  "nbformat_minor": 0
}